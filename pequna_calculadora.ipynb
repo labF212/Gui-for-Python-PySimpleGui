{
 "cells": [
  {
   "cell_type": "markdown",
   "id": "54b58315",
   "metadata": {},
   "source": [
    "# Create a Dragon Warhammer spec calculator with a GUI"
   ]
  },
  {
   "cell_type": "markdown",
   "id": "f2a328c0",
   "metadata": {},
   "source": [
    "import modules"
   ]
  },
  {
   "cell_type": "code",
   "execution_count": null,
   "id": "7009282c",
   "metadata": {},
   "outputs": [],
   "source": [
    "import PySimpleGUI as sg #sg to make it shorter later on"
   ]
  },
  {
   "cell_type": "markdown",
   "id": "695a7973",
   "metadata": {},
   "source": [
    "Create the layout with PySimpleGUI and code the function"
   ]
  },
  {
   "cell_type": "code",
   "execution_count": 31,
   "id": "4145f2af",
   "metadata": {},
   "outputs": [],
   "source": [
    "#Let's give the GUI a theme\n",
    "sg.theme('DarkAmber')\n",
    "\n",
    "#Let's create the layout\n",
    "layout = [\n",
    "    \n",
    "    #Let's create some text and then a user-input box below it\n",
    "    [sg.Text(\"Number of specs\")],\n",
    "    [sg.Input(key='nbSpec')], #the key 'nbSpec' is how we'll refer to that specific box later in the code\n",
    "    \n",
    "    #Let's have a box for the Monster's base def level as well\n",
    "    [sg.Text(\"Monster's base def level\")],\n",
    "    [sg.Input(key='defLvl')],\n",
    "    \n",
    "    #Let's create a button that'll execute our calculation code and reset the values as well\n",
    "    [sg.Button('Calculate'), sg.Button('Reset')],\n",
    "    \n",
    "    #Finally, an output box with the final result of our calculation\n",
    "    [sg.Text(\"Monster's def level after specs\")],\n",
    "    [sg.Output(key='finalDef')],\n",
    "    \n",
    "]\n",
    "\n",
    "\n",
    "#This is the standard code you'll always use\n",
    "#Your layout code goes above it and your actual logic code goes below it\n",
    "###STANDARD CODE###\n",
    "window = sg.Window('DWH Spec Calculator', layout) #Here you can change your program's name\n",
    "\n",
    "while True:\n",
    "\n",
    "    event, values = window.read()\n",
    "\n",
    "    if event == sg.WINDOW_CLOSED:\n",
    "        break\n",
    "    ###STANDARD CODE###\n",
    "    \n",
    "    #Let's now code the interaction with those buttons and the input boxes\n",
    "    \n",
    "    if event == 'Calculate': #if we click on \"Calculate\"\n",
    "        \n",
    "        num = float(values['nbSpec']) #the value in the input box 'nbSpec'\n",
    "        defence = float(values['defLvl'])\n",
    "        formula = round((0.7**num)*defence,2)\n",
    "        \n",
    "        #We want the result of \"formula\" to be displayed in the output box 'finalDef'\n",
    "        window['finalDef'].update(formula) #We updated the value of that box with the value of 'formula'\n",
    "        \n",
    "    \n",
    "    #Now let's code what happens if we press 'Reset'\n",
    "    if event == 'Reset':\n",
    "        \n",
    "        #Every box is now updated with the value \"\" (nothing)\n",
    "        window['nbSpec'].update(\"\")\n",
    "        window['defLvl'].update(\"\")\n",
    "        window['finalDef'].update(\"\")\n",
    "        "
   ]
  },
  {
   "cell_type": "code",
   "execution_count": null,
   "id": "384b77e4",
   "metadata": {},
   "outputs": [],
   "source": [
    "\n"
   ]
  }
 ],
 "metadata": {
  "kernelspec": {
   "display_name": "Python 3",
   "language": "python",
   "name": "python3"
  },
  "language_info": {
   "codemirror_mode": {
    "name": "ipython",
    "version": 3
   },
   "file_extension": ".py",
   "mimetype": "text/x-python",
   "name": "python",
   "nbconvert_exporter": "python",
   "pygments_lexer": "ipython3",
   "version": "3.9.0"
  }
 },
 "nbformat": 4,
 "nbformat_minor": 5
}
