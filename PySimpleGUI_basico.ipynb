{
  "nbformat": 4,
  "nbformat_minor": 0,
  "metadata": {
    "colab": {
      "name": "PySimpleGUI_basico.ipynb",
      "provenance": [],
      "authorship_tag": "ABX9TyMR/mzbkLG/ezTr6YOyQaLg",
      "include_colab_link": true
    },
    "kernelspec": {
      "name": "python3",
      "display_name": "Python 3"
    },
    "language_info": {
      "name": "python"
    }
  },
  "cells": [
    {
      "cell_type": "markdown",
      "metadata": {
        "id": "view-in-github",
        "colab_type": "text"
      },
      "source": [
        "<a href=\"https://colab.research.google.com/github/labF212/PySimpleGui/blob/main/PySimpleGUI_basico.ipynb\" target=\"_parent\"><img src=\"https://colab.research.google.com/assets/colab-badge.svg\" alt=\"Open In Colab\"/></a>"
      ]
    },
    {
      "cell_type": "markdown",
      "source": [
        "#PySimpleGui - O Básico"
      ],
      "metadata": {
        "id": "_-0GnDRiV15d"
      }
    },
    {
      "cell_type": "markdown",
      "source": [
        "Como instalar:\n",
        "Se tiver o Ubuntu necessita primeiro de instalar o tk antes, usando o comando:"
      ],
      "metadata": {
        "id": "zDJ7UmBYWIlF"
      }
    },
    {
      "cell_type": "code",
      "source": [
        "!apt-get install python3-tk"
      ],
      "metadata": {
        "id": "4iGY7PeRVlhK"
      },
      "execution_count": null,
      "outputs": []
    },
    {
      "cell_type": "markdown",
      "source": [
        "Para instalar o PySimpleGui use o pip fazendo o comando:"
      ],
      "metadata": {
        "id": "GAFrbSpcWjIx"
      }
    },
    {
      "cell_type": "code",
      "source": [
        "!pip3 install PySimpleGUI"
      ],
      "metadata": {
        "id": "LIuoIBRqS5JV"
      },
      "execution_count": null,
      "outputs": []
    },
    {
      "cell_type": "markdown",
      "source": [
        "Neste caso o código gerado é Python baseado na interface gráfica Tkinter e TTK."
      ],
      "metadata": {
        "id": "zC5lyCUubRQY"
      }
    },
    {
      "cell_type": "code",
      "execution_count": null,
      "metadata": {
        "id": "m4Ezb3QsScur"
      },
      "outputs": [],
      "source": [
        "!#/usr/bin/python3\n",
        "import PySimpleGUI as sg\n",
        "\n",
        "sg.theme('DarkAmber')   # Add a touch of color\n",
        "# All the stuff inside your window.\n",
        "layout = [  [sg.Text('Texto na 1ª linha',justification='center',font='Courier 15')],\n",
        "            [sg.Text('Introduza algo na 2ª linha:'), sg.InputText(key='-INPUT-')],\n",
        "            [sg.Button('Ok'), sg.Button('Cancel')] ]\n",
        "\n",
        "# Create the Window\n",
        "window = sg.Window('Título da Janela', layout)\n",
        "# Event Loop to process \"events\" and get the \"values\" of the inputs\n",
        "\n",
        "\n",
        "while True:\n",
        "    event, values = window.read()\n",
        "          \n",
        "    if event == sg.WIN_CLOSED or event == 'Cancel': # if user closes window or clicks cancel\n",
        "        break\n",
        "    if event == 'Ok':\n",
        "        #janela que aparece\n",
        "        sg.popup('Você precisa de escrever um bom texto\\n para se ler o título desta janela.\\n O que escreveu foi:', \n",
        "        values['-INPUT-'], title='PopUp Window')\n",
        "\n",
        "window.close()"
      ]
    },
    {
      "cell_type": "markdown",
      "source": [
        "PySimpleWeb"
      ],
      "metadata": {
        "id": "rSbagU0_aawp"
      }
    },
    {
      "cell_type": "markdown",
      "source": [
        "PySimpleWeb é outra forma de mostrar o código, mas desta vez o código gerado é uma página HTML.\n",
        "Open in Your Browser:\n",
        "http://0.0.0.0:2222/\n",
        "\n",
        "**Nota:** Não funciona em Python 3.9"
      ],
      "metadata": {
        "id": "f8JrVRK6a6kc"
      }
    },
    {
      "cell_type": "code",
      "source": [
        "import PySimpleGUIWeb as sg\n",
        "\n",
        "layout = [  [sg.Text('My Window')],\n",
        "            [sg.Input(key='-IN-'), sg.Text(size=(12,1), key='-OUT-')],\n",
        "            [sg.Button('Go'), sg.Button('Exit')]  ]\n",
        "\n",
        "window = sg.Window('Window Title', layout, web_port=2222, web_start_browser=False)\n",
        "\n",
        "while True:             # Event Loop\n",
        "    event, values = window.read()\n",
        "    print(event, values)\n",
        "    if event in (None, 'Exit'):\n",
        "        break\n",
        "    if event == 'Go':\n",
        "        window['-OUT-'].Update(values['-IN-'])\n",
        "window.close()"
      ],
      "metadata": {
        "id": "XFvbUgqzaj3o"
      },
      "execution_count": null,
      "outputs": []
    }
  ]
}